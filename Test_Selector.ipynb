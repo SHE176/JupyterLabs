{
 "cells": [
  {
   "cell_type": "code",
   "execution_count": 24,
   "id": "ab424437-47e7-45f8-b9af-7754b157188b",
   "metadata": {},
   "outputs": [
    {
     "data": {
      "application/vnd.jupyter.widget-view+json": {
       "model_id": "769e4085b24d4ede8366f910469e7ae8",
       "version_major": 2,
       "version_minor": 0
      },
      "text/plain": [
       "HBox(children=(Dropdown(description='Terminal:', index=16, layout=Layout(width='15%'), options=('-', 'ACT', 'A…"
      ]
     },
     "metadata": {},
     "output_type": "display_data"
    },
    {
     "data": {
      "application/vnd.jupyter.widget-view+json": {
       "model_id": "966bfc3549cf43159bc696561591b9ee",
       "version_major": 2,
       "version_minor": 0
      },
      "text/plain": [
       "Text(value='Coordenadas: (0, 0)', description='Clic en mapa:')"
      ]
     },
     "metadata": {},
     "output_type": "display_data"
    },
    {
     "data": {
      "application/vnd.jupyter.widget-view+json": {
       "model_id": "4a739e9f17184fe58b4b6fe47c88b562",
       "version_major": 2,
       "version_minor": 0
      },
      "text/plain": [
       "Map(center=[35.862, -5.5371], controls=(ZoomControl(options=['position', 'zoom_in_text', 'zoom_in_title', 'zoo…"
      ]
     },
     "execution_count": 24,
     "metadata": {},
     "output_type": "execute_result"
    }
   ],
   "source": [
    "import gps\n",
    "from fun_gps import terminal_selector, create_map\n",
    "\n",
    "terminal_selector()\n",
    "m = create_map()\n",
    "m"
   ]
  },
  {
   "cell_type": "code",
   "execution_count": 26,
   "id": "bbf4ddde-bf88-42ab-a8b8-9988cf656bcb",
   "metadata": {},
   "outputs": [
    {
     "data": {
      "application/vnd.jupyter.widget-view+json": {
       "model_id": "4a739e9f17184fe58b4b6fe47c88b562",
       "version_major": 2,
       "version_minor": 0
      },
      "text/plain": [
       "Map(bottom=13192432.0, center=[35.862, -5.5371], controls=(ZoomControl(options=['position', 'zoom_in_text', 'z…"
      ]
     },
     "execution_count": 26,
     "metadata": {},
     "output_type": "execute_result"
    }
   ],
   "source": [
    "from ipyleaflet import Polyline\n",
    "p1 = [35.858768, -5.54164]\n",
    "p2 = [35.866401, -5.533502]\n",
    "\n",
    "lines = Polyline(\n",
    "    locations=[p1, p2],\n",
    "    color=\"red\" ,\n",
    "    fill=False\n",
    ")\n",
    "\n",
    "m.add(lines)"
   ]
  },
  {
   "cell_type": "code",
   "execution_count": 3,
   "id": "e0d0610c-e234-42e3-a5a8-cdb1062d1da7",
   "metadata": {},
   "outputs": [
    {
     "data": {
      "application/vnd.jupyter.widget-view+json": {
       "model_id": "ab44783559a24067839caf7d590ca546",
       "version_major": 2,
       "version_minor": 0
      },
      "text/plain": [
       "FileUpload(value=(), description='Upload')"
      ]
     },
     "metadata": {},
     "output_type": "display_data"
    }
   ],
   "source": [
    "import ipywidgets as widgets\n",
    "from IPython.display import display\n",
    "\n",
    "uploader = widgets.FileUpload()\n",
    "display(uploader)"
   ]
  },
  {
   "cell_type": "code",
   "execution_count": 4,
   "id": "5b015e58-74bd-49d9-9a1c-ccbf97bd122b",
   "metadata": {},
   "outputs": [
    {
     "data": {
      "application/vnd.jupyter.widget-view+json": {
       "model_id": "63f8dd5d22a348c18a40d0725dbf52e8",
       "version_major": 2,
       "version_minor": 0
      },
      "text/plain": [
       "Map(center=[40.7128, -74.006], controls=(ZoomControl(options=['position', 'zoom_in_text', 'zoom_in_title', 'zo…"
      ]
     },
     "execution_count": 4,
     "metadata": {},
     "output_type": "execute_result"
    }
   ],
   "source": [
    "from ipyleaflet import Map, TileLayer, FullScreenControl, ScaleControl, WidgetControl\n",
    "import ipywidgets as widgets\n",
    "\n",
    "# Crear capa base de Google Satellite\n",
    "gmaps = TileLayer(\n",
    "    url=\"https://mt1.google.com/vt/lyrs=s&x={x}&y={y}&z={z}\",\n",
    "    attribution=\"&copy; Google\",\n",
    "    max_zoom=22,\n",
    "    min_zoom=0,\n",
    "    opacity=1\n",
    ")\n",
    "\n",
    "# Crear el mapa con el centro y nivel de zoom inicial\n",
    "m = Map(layers=[gmaps], center=(40.7128, -74.0060), zoom=13, scroll_wheel_zoom=True)\n",
    "\n",
    "# Añadir el control de pantalla completa y la escala al mapa\n",
    "m.add(FullScreenControl())\n",
    "m.add(ScaleControl(position='bottomleft'))\n",
    "\n",
    "# Crear un widget HTML para mostrar el texto en el mapa (esto simula un div)\n",
    "text_html = widgets.HTML(value=\"<div style='font-size: 20px; color: blue;'>🔴 ¡Este es un div con texto en el mapa!</div>\")\n",
    "\n",
    "# Crear un WidgetControl para colocar el HTML en el mapa\n",
    "html_control = WidgetControl(widget=text_html, position='topright')\n",
    "\n",
    "# Añadir el control HTML al mapa\n",
    "m.add_control(html_control)\n",
    "\n",
    "m.layout.css = {\n",
    "    \"cursor\": \"crosshair\"  # Cambiar el cursor del mapa a cruz\n",
    "}\n",
    "\n",
    "# Mostrar el mapa\n",
    "m\n"
   ]
  },
  {
   "cell_type": "code",
   "execution_count": 5,
   "id": "36a281c2-ce83-442a-983b-4752cb46f116",
   "metadata": {},
   "outputs": [
    {
     "data": {
      "application/vnd.jupyter.widget-view+json": {
       "model_id": "9cbdd2e0f7f5417aa161db2a57b2a1b8",
       "version_major": 2,
       "version_minor": 0
      },
      "text/plain": [
       "Map(center=[36.5271, -6.2886], controls=(ZoomControl(options=['position', 'zoom_in_text', 'zoom_in_title', 'zo…"
      ]
     },
     "execution_count": 5,
     "metadata": {},
     "output_type": "execute_result"
    }
   ],
   "source": [
    "import ipywidgets as widgets\n",
    "from ipyleaflet import Map, TileLayer, FullScreenControl, ScaleControl\n",
    "\n",
    "# Crear la capa base de Google Satellite\n",
    "gmaps = TileLayer(\n",
    "    url=\"https://mt1.google.com/vt/lyrs=s&x={x}&y={y}&z={z}\",\n",
    "    attribution=\"&copy; Google\",\n",
    "    max_zoom=22,\n",
    "    min_zoom=0,\n",
    "    opacity=1\n",
    ")\n",
    "\n",
    "# Crear el mapa con el centro y nivel de zoom inicial\n",
    "m = Map(layers=[gmaps], center=[36.527100, -6.288600], zoom=17, scroll_wheel_zoom=True)\n",
    "\n",
    "# Crear el div que se actualizará dinámicamente\n",
    "coordinates_div = widgets.HTML(value='<span>Coordenadas: </span><span id=\"gps\"></span>', layout=widgets.Layout(position=\"absolute\", top=\"10px\", left=\"10px\", background=\"rgba(255, 255, 255, 0.7)\", padding=\"5px\"))\n",
    "\n",
    "# Función para manejar el movimiento del ratón\n",
    "def on_mouse_move(event, **kwargs):\n",
    "    if kwargs['type'] == 'click':\n",
    "        lat = round(kwargs['coordinates'][0], 6)\n",
    "        lng = round(kwargs['coordinates'][1], 6)\n",
    "\n",
    "        p_gps = [lat, lng]\n",
    "        p_xy  = gps.GPS2XY(p_gps, 2)\n",
    "        print(p_gps, p_xy)\n",
    "    \n",
    "        # Actualizar el contenido del HTML con las coordenadas\n",
    "        coordinates_div.value = f\"\"\"\n",
    "            <div style='position: absolute; background: rgba(255, 255, 255, 0.7); padding: 5px 10px; border-radius: 5px; font-size: 10px; color: #333; font-family: Arial, sans-serif; z-index: 1000; top: 10px; pointer-events: none; max-width: 100%; overflow: hidden; white-space: nowrap; height: auto; max-height: 100px;'>\n",
    "                <span class=\"gps-line\">🔵 {lat} , {lng}</span><br>\n",
    "                <span class=\"xy-line\">🔴 {p_xy[0]} , {p_xy[1]}</span><br>\n",
    "            </div>\n",
    "        \"\"\"\n",
    "\n",
    "# Asignar la función al evento 'mousemove' del mapa\n",
    "m.on_interaction(on_mouse_move)\n",
    "\n",
    "# Añadir el control de pantalla completa y la escala\n",
    "m.add(FullScreenControl())\n",
    "m.add(ScaleControl(position='bottomleft'))\n",
    "\n",
    "# Añadir el control HTML al mapa\n",
    "m.add_control(coordinates_div)\n",
    "m\n"
   ]
  },
  {
   "cell_type": "code",
   "execution_count": 6,
   "id": "d120eeaa-cc27-4e95-83a3-e8c163e96475",
   "metadata": {},
   "outputs": [
    {
     "data": {
      "text/plain": [
       "environ{'ALLUSERSPROFILE': 'C:\\\\ProgramData',\n",
       "        'APPDATA': 'C:\\\\Users\\\\Santi\\\\AppData\\\\Roaming',\n",
       "        'CHOCOLATEYINSTALL': 'C:\\\\ProgramData\\\\chocolatey',\n",
       "        'CHOCOLATEYLASTPATHUPDATE': '133311249175452153',\n",
       "        'COMMONPROGRAMFILES': 'C:\\\\Program Files\\\\Common Files',\n",
       "        'COMMONPROGRAMFILES(X86)': 'C:\\\\Program Files (x86)\\\\Common Files',\n",
       "        'COMMONPROGRAMW6432': 'C:\\\\Program Files\\\\Common Files',\n",
       "        'COMPUTERNAME': 'LAPTOP-SHL',\n",
       "        'COMSPEC': 'C:\\\\Windows\\\\system32\\\\cmd.exe',\n",
       "        'DRIVERDATA': 'C:\\\\Windows\\\\System32\\\\Drivers\\\\DriverData',\n",
       "        'FPS_BROWSER_APP_PROFILE_STRING': 'Internet Explorer',\n",
       "        'FPS_BROWSER_USER_PROFILE_STRING': 'Default',\n",
       "        'HOMEDRIVE': 'C:',\n",
       "        'HOMEPATH': '\\\\Users\\\\Santi',\n",
       "        'LOCALAPPDATA': 'C:\\\\Users\\\\Santi\\\\AppData\\\\Local',\n",
       "        'LOGONSERVER': '\\\\\\\\LAPTOP-SHL',\n",
       "        'NUMBER_OF_PROCESSORS': '8',\n",
       "        'ONEDRIVE': 'C:\\\\Users\\\\Santi\\\\OneDrive',\n",
       "        'OS': 'Windows_NT',\n",
       "        'PATH': 'C:\\\\Windows\\\\system32;C:\\\\Windows;C:\\\\Windows\\\\System32\\\\Wbem;C:\\\\Windows\\\\System32\\\\WindowsPowerShell\\\\v1.0\\\\;C:\\\\Windows\\\\System32\\\\OpenSSH\\\\;C:\\\\Program Files\\\\Azure Data Studio\\\\bin;C:\\\\Program Files\\\\gs\\\\gs9.56.1\\\\bin;C:\\\\Program Files\\\\dotnet\\\\;C:\\\\Program Files (x86)\\\\CODESYS\\\\APInstaller\\\\;C:\\\\Program Files\\\\nodejs\\\\;C:\\\\ProgramData\\\\chocolatey\\\\bin;C:\\\\Program Files\\\\PuTTY\\\\;C:\\\\Program Files (x86)\\\\Microsoft SQL Server\\\\160\\\\DTS\\\\Binn\\\\;C:\\\\Program Files (x86)\\\\Microsoft SQL Server\\\\160\\\\Tools\\\\Binn\\\\;C:\\\\Program Files\\\\Microsoft SQL Server\\\\160\\\\Tools\\\\Binn\\\\;C:\\\\Program Files\\\\Microsoft SQL Server\\\\Client SDK\\\\ODBC\\\\170\\\\Tools\\\\Binn\\\\;C:\\\\Program Files\\\\Microsoft SQL Server\\\\160\\\\DTS\\\\Binn\\\\;C:\\\\Users\\\\Santi\\\\AppData\\\\Local\\\\Programs\\\\Python\\\\Python39\\\\Scripts\\\\;C:\\\\Users\\\\Santi\\\\AppData\\\\Local\\\\Programs\\\\Python\\\\Python39\\\\;C:\\\\Users\\\\Santi\\\\AppData\\\\Local\\\\Microsoft\\\\WindowsApps;;C:\\\\Program Files\\\\Azure Data Studio\\\\bin;C:\\\\Program Files\\\\Azure Data Studio\\\\bin;C:\\\\Program Files\\\\JetBrains\\\\WebStorm 2022.2\\\\bin;;C:\\\\texlive\\\\2022\\\\bin\\\\win32;C:\\\\Users\\\\Santi\\\\AppData\\\\Roaming\\\\npm;C:\\\\Users\\\\Santi\\\\AppData\\\\Local\\\\Programs\\\\Microsoft VS Code\\\\bin',\n",
       "        'PATHEXT': '.COM;.EXE;.BAT;.CMD;.VBS;.VBE;.JS;.JSE;.WSF;.WSH;.MSC',\n",
       "        'PROCESSOR_ARCHITECTURE': 'AMD64',\n",
       "        'PROCESSOR_IDENTIFIER': 'Intel64 Family 6 Model 140 Stepping 1, GenuineIntel',\n",
       "        'PROCESSOR_LEVEL': '6',\n",
       "        'PROCESSOR_REVISION': '8c01',\n",
       "        'PROGRAMDATA': 'C:\\\\ProgramData',\n",
       "        'PROGRAMFILES': 'C:\\\\Program Files',\n",
       "        'PROGRAMFILES(X86)': 'C:\\\\Program Files (x86)',\n",
       "        'PROGRAMW6432': 'C:\\\\Program Files',\n",
       "        'PROMPT': '$P$G',\n",
       "        'PSMODULEPATH': 'C:\\\\Program Files\\\\WindowsPowerShell\\\\Modules;C:\\\\Windows\\\\system32\\\\WindowsPowerShell\\\\v1.0\\\\Modules;C:\\\\Program Files (x86)\\\\Microsoft SQL Server\\\\160\\\\Tools\\\\PowerShell\\\\Modules\\\\',\n",
       "        'PUBLIC': 'C:\\\\Users\\\\Public',\n",
       "        'SESSIONNAME': 'Console',\n",
       "        'SYSTEMDRIVE': 'C:',\n",
       "        'SYSTEMROOT': 'C:\\\\Windows',\n",
       "        'TEMP': 'C:\\\\Users\\\\Santi\\\\AppData\\\\Local\\\\Temp',\n",
       "        'TMP': 'C:\\\\Users\\\\Santi\\\\AppData\\\\Local\\\\Temp',\n",
       "        'USERDOMAIN': 'LAPTOP-SHL',\n",
       "        'USERDOMAIN_ROAMINGPROFILE': 'LAPTOP-SHL',\n",
       "        'USERNAME': 'Santi',\n",
       "        'USERPROFILE': 'C:\\\\Users\\\\Santi',\n",
       "        'VBOX_MSI_INSTALL_PATH': 'C:\\\\Program Files\\\\Oracle\\\\VirtualBox\\\\',\n",
       "        'WEBSTORM': 'C:\\\\Program Files\\\\JetBrains\\\\WebStorm 2022.2\\\\bin;',\n",
       "        'WINDIR': 'C:\\\\Windows',\n",
       "        'ZES_ENABLE_SYSMAN': '1',\n",
       "        '__PSLOCKDOWNPOLICY': '0',\n",
       "        'PYDEVD_USE_FRAME_EVAL': 'NO',\n",
       "        'PYTHONUNBUFFERED': '1',\n",
       "        'JPY_SESSION_NAME': 'D:\\\\Archivo\\\\[ PYTHON ]\\\\[Sistema]\\\\JupyterLabs\\\\[Notebooks]\\\\GPS\\\\Test_Selector.ipynb',\n",
       "        'JPY_INTERRUPT_EVENT': '3500',\n",
       "        'IPY_INTERRUPT_EVENT': '3500',\n",
       "        'JPY_PARENT_PID': '3496',\n",
       "        'TERM': 'xterm-color',\n",
       "        'CLICOLOR': '1',\n",
       "        'FORCE_COLOR': '1',\n",
       "        'CLICOLOR_FORCE': '1',\n",
       "        'PAGER': 'cat',\n",
       "        'GIT_PAGER': 'cat',\n",
       "        'MPLBACKEND': 'module://matplotlib_inline.backend_inline'}"
      ]
     },
     "execution_count": 6,
     "metadata": {},
     "output_type": "execute_result"
    }
   ],
   "source": [
    "import os\n",
    "os.environ\n"
   ]
  },
  {
   "cell_type": "code",
   "execution_count": null,
   "id": "e7dec135-b00f-4983-9787-e5bd9890b2a3",
   "metadata": {},
   "outputs": [],
   "source": []
  }
 ],
 "metadata": {
  "kernelspec": {
   "display_name": "Python 3 (ipykernel)",
   "language": "python",
   "name": "python3"
  },
  "language_info": {
   "codemirror_mode": {
    "name": "ipython",
    "version": 3
   },
   "file_extension": ".py",
   "mimetype": "text/x-python",
   "name": "python",
   "nbconvert_exporter": "python",
   "pygments_lexer": "ipython3",
   "version": "3.9.12"
  }
 },
 "nbformat": 4,
 "nbformat_minor": 5
}
