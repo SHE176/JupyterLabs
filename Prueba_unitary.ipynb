{
 "cells": [
  {
   "cell_type": "code",
   "execution_count": 1,
   "id": "15bf5cdf-e20c-4866-a154-b7e7fd6fce23",
   "metadata": {},
   "outputs": [],
   "source": [
    "Tmax = 155\n",
    "Hmax = 55\n",
    "\n",
    "def T2unitary(T):\n",
    "    return T / Tmax\n",
    "\n",
    "def T2meters(TU):\n",
    "    return round(TU * Tmax, 3)\n",
    "\n",
    "def H2unitary(H):\n",
    "    return 1 - H / Hmax\n",
    "\n",
    "def H2meters(HU):\n",
    "    return round((1 - HU) * Hmax, 3) \n",
    "\n",
    "def meters2unitary(p):\n",
    "    return (T2unitary(p[0]), H2unitary(p[1]))\n",
    "\n",
    "def unitary2meters(p):\n",
    "    return (T2meters(p[0]), H2meters(p[1]))"
   ]
  },
  {
   "cell_type": "code",
   "execution_count": 2,
   "id": "61c4336d-73a2-4ab7-9ed7-372b10352398",
   "metadata": {},
   "outputs": [
    {
     "data": {
      "text/plain": [
       "77.5"
      ]
     },
     "execution_count": 2,
     "metadata": {},
     "output_type": "execute_result"
    }
   ],
   "source": [
    "TU = 0.5\n",
    "\n",
    "T2meters(TU)"
   ]
  },
  {
   "cell_type": "code",
   "execution_count": 3,
   "id": "0430f040-48ad-44e7-8712-87447cdf3057",
   "metadata": {},
   "outputs": [
    {
     "data": {
      "text/plain": [
       "1.0"
      ]
     },
     "execution_count": 3,
     "metadata": {},
     "output_type": "execute_result"
    }
   ],
   "source": [
    "HM = 0\n",
    "H2unitary(HM)"
   ]
  },
  {
   "cell_type": "code",
   "execution_count": 4,
   "id": "be2cc36c-69db-4e78-87da-158e7ede131c",
   "metadata": {},
   "outputs": [
    {
     "data": {
      "text/plain": [
       "0.0"
      ]
     },
     "execution_count": 4,
     "metadata": {},
     "output_type": "execute_result"
    }
   ],
   "source": [
    "HU = 1.0\n",
    "H2meters(HU)"
   ]
  },
  {
   "cell_type": "code",
   "execution_count": 5,
   "id": "0043ea00-59c3-4f51-a0a2-fbba95d12a41",
   "metadata": {},
   "outputs": [
    {
     "data": {
      "application/vnd.jupyter.widget-view+json": {
       "model_id": "608a3be728a84f36af30e4336650ab86",
       "version_major": 2,
       "version_minor": 0
      },
      "text/plain": [
       "interactive(children=(FloatSlider(value=77.5, description='T', max=155.0), FloatSlider(value=20.0, description…"
      ]
     },
     "metadata": {},
     "output_type": "display_data"
    }
   ],
   "source": [
    "from ipywidgets import interact\n",
    "\n",
    "p=( 50, 15)\n",
    "@interact(T = (0.0, 155), H = (-15.0, 55))\n",
    "def g(T,H):\n",
    "\n",
    "    p = (T,H)\n",
    "    \n",
    "    u = meters2unitary(p)\n",
    "    w = unitary2meters(u)\n",
    "    print(u)\n",
    "    print(w)"
   ]
  }
 ],
 "metadata": {
  "kernelspec": {
   "display_name": "Python 3 (ipykernel)",
   "language": "python",
   "name": "python3"
  },
  "language_info": {
   "codemirror_mode": {
    "name": "ipython",
    "version": 3
   },
   "file_extension": ".py",
   "mimetype": "text/x-python",
   "name": "python",
   "nbconvert_exporter": "python",
   "pygments_lexer": "ipython3",
   "version": "3.9.12"
  }
 },
 "nbformat": 4,
 "nbformat_minor": 5
}
