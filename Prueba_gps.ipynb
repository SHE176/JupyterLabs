{
 "cells": [
  {
   "cell_type": "code",
   "execution_count": 2,
   "id": "511284dc-6710-4aec-9d8c-23d674fd9df2",
   "metadata": {},
   "outputs": [
    {
     "data": {
      "text/plain": [
       "[10.016504, -83.101919]"
      ]
     },
     "execution_count": 2,
     "metadata": {},
     "output_type": "execute_result"
    }
   ],
   "source": [
    "import gps as gps\n",
    "\n",
    "name = 'MOIN'\n",
    "\n",
    "gps.ZERO, gps.INCLINATION, gps.R_TER = gps.load_geodata(name)\n",
    "gps.ZERO"
   ]
  },
  {
   "cell_type": "code",
   "execution_count": null,
   "id": "b7e888e4-4b4c-435c-912e-e9dab00a9fdf",
   "metadata": {},
   "outputs": [],
   "source": []
  }
 ],
 "metadata": {
  "kernelspec": {
   "display_name": "Python 3 (ipykernel)",
   "language": "python",
   "name": "python3"
  },
  "language_info": {
   "codemirror_mode": {
    "name": "ipython",
    "version": 3
   },
   "file_extension": ".py",
   "mimetype": "text/x-python",
   "name": "python",
   "nbconvert_exporter": "python",
   "pygments_lexer": "ipython3",
   "version": "3.9.12"
  }
 },
 "nbformat": 4,
 "nbformat_minor": 5
}
